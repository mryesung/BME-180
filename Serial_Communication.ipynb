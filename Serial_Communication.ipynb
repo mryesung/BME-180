{
 "cells": [
  {
   "cell_type": "code",
   "execution_count": 1,
   "id": "a2b2b131",
   "metadata": {},
   "outputs": [],
   "source": [
    "#import required modules\n",
    "import serial\n",
    "from datetime import datetime\n",
    "import platform\n",
    "import time\n",
    "import pandas as pd"
   ]
  },
  {
   "cell_type": "code",
   "execution_count": 2,
   "id": "822bb321",
   "metadata": {},
   "outputs": [
    {
     "name": "stdout",
     "output_type": "stream",
     "text": [
      "Type in your COM port Number\n",
      "ex) if COM3, type in 3\n",
      "4\n"
     ]
    }
   ],
   "source": [
    "#set serial connection\n",
    "\n",
    "OS = platform.system()\n",
    "\n",
    "if OS == 'Windows':\n",
    "    PortBase = \"COM\"\n",
    "elif OS == 'Darwin':\n",
    "    PortBase = '/ev/tty.usbmodem'\n",
    "else:\n",
    "    print(\"Not supported OS\")\n",
    "\n",
    "\n",
    "print(\"Type in your COM port Number\")\n",
    "print(\"ex) if COM3, type in 3\")\n",
    "PortName = PortBase + input()\n",
    "BaudRate = 9600\n",
    "\n",
    "Arduino = serial.Serial(PortName, BaudRate)"
   ]
  },
  {
   "cell_type": "code",
   "execution_count": 3,
   "id": "9e129584",
   "metadata": {},
   "outputs": [],
   "source": [
    "#to create exe file\n",
    "\n",
    "#convert to .py\n",
    "#pip install nbconvert\n",
    "#jupyter nbconvert --to script name.ipynb\n",
    "\n",
    "#convert to .exe\n",
    "#pip install pyinstaller\n",
    "#pyinstaller name.py"
   ]
  },
  {
   "cell_type": "code",
   "execution_count": 4,
   "id": "5d926e9e",
   "metadata": {
    "scrolled": true
   },
   "outputs": [
    {
     "name": "stdout",
     "output_type": "stream",
     "text": [
      "Type in the desired name of the .csv data file\n",
      "ex) 0001\n",
      "if there is a csv file with same, the original file will be replaced!\n",
      "0001\n"
     ]
    }
   ],
   "source": [
    "#create csv file\n",
    "print(\"Type in the desired name of the .csv data file\")\n",
    "print(\"ex) 0001\")\n",
    "print(\"if there is a csv file with same, the original file will be replaced!\")\n",
    "FileName = input() + \".csv\""
   ]
  },
  {
   "cell_type": "code",
   "execution_count": 5,
   "id": "26ef671f",
   "metadata": {},
   "outputs": [
    {
     "name": "stdout",
     "output_type": "stream",
     "text": [
      "How much minutes will you record the data?\n",
      "0.1\n"
     ]
    }
   ],
   "source": [
    "#read data from arduino serial monitor and save in list of data\n",
    "data = []\n",
    "\n",
    "print(\"How much minutes will you record the data?\")\n",
    "seconds = float(input()) * 60\n",
    "\n",
    "#delayTime is in seconds\n",
    "#follwing is sampling frequency of 10\n",
    "delayTime = 0.1"
   ]
  },
  {
   "cell_type": "code",
   "execution_count": 6,
   "id": "5b73f3e9",
   "metadata": {},
   "outputs": [],
   "source": [
    "while seconds > 0:\n",
    "    #Arduino will print the Rsensor value in the Serial Monitor\n",
    "    #only when python script requires to do so by printing 'w'\n",
    "    Arduino.write(b'w')\n",
    "    \n",
    "    SerialData = float(Arduino.readline().decode('utf-8'))\n",
    "    data.append([SerialData, datetime.now().strftime(\"%H:%M:%S.%f\")])\n",
    "    \n",
    "    time.sleep(delayTime)\n",
    "    seconds -= delayTime"
   ]
  },
  {
   "cell_type": "code",
   "execution_count": 7,
   "id": "a059bab2",
   "metadata": {},
   "outputs": [],
   "source": [
    "#import numpy if we need additional mathematical calculations"
   ]
  },
  {
   "cell_type": "code",
   "execution_count": 8,
   "id": "675c69bd",
   "metadata": {},
   "outputs": [],
   "source": [
    "#write data to the csv file\n",
    "columnNames = ['Rsensor', 'Time']\n",
    "\n",
    "dataFile = pd.DataFrame(data, columns = columnNames)\n",
    "dataFile.to_csv(FileName, index = False)"
   ]
  },
  {
   "cell_type": "code",
   "execution_count": 9,
   "id": "91425983",
   "metadata": {},
   "outputs": [
    {
     "name": "stdout",
     "output_type": "stream",
     "text": [
      "You will need to change the cell format to 'hh:mm:ss.000'\n"
     ]
    }
   ],
   "source": [
    "#disconnect the Arduino\n",
    "Arduino.close()\n",
    "\n",
    "print(\"You will need to change the cell format to 'hh:mm:ss.000'\")"
   ]
  }
 ],
 "metadata": {
  "kernelspec": {
   "display_name": "Python 3 (ipykernel)",
   "language": "python",
   "name": "python3"
  },
  "language_info": {
   "codemirror_mode": {
    "name": "ipython",
    "version": 3
   },
   "file_extension": ".py",
   "mimetype": "text/x-python",
   "name": "python",
   "nbconvert_exporter": "python",
   "pygments_lexer": "ipython3",
   "version": "3.9.12"
  }
 },
 "nbformat": 4,
 "nbformat_minor": 5
}
