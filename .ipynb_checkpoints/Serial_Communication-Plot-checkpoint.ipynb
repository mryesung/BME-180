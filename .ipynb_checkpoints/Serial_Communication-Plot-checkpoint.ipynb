{
 "cells": [
  {
   "cell_type": "code",
   "execution_count": 16,
   "id": "5dfbf4e3",
   "metadata": {
    "scrolled": false
   },
   "outputs": [
    {
     "name": "stdout",
     "output_type": "stream",
     "text": [
      "Type in your COM port Number\n",
      "ex) if COM3, type in 3\n"
     ]
    },
    {
     "ename": "KeyboardInterrupt",
     "evalue": "Interrupted by user",
     "output_type": "error",
     "traceback": [
      "\u001b[1;31m---------------------------------------------------------------------------\u001b[0m",
      "\u001b[1;31mKeyboardInterrupt\u001b[0m                         Traceback (most recent call last)",
      "Input \u001b[1;32mIn [16]\u001b[0m, in \u001b[0;36m<cell line: 31>\u001b[1;34m()\u001b[0m\n\u001b[0;32m     29\u001b[0m \u001b[38;5;28mprint\u001b[39m(\u001b[38;5;124m\"\u001b[39m\u001b[38;5;124mType in your COM port Number\u001b[39m\u001b[38;5;124m\"\u001b[39m)\n\u001b[0;32m     30\u001b[0m \u001b[38;5;28mprint\u001b[39m(\u001b[38;5;124m\"\u001b[39m\u001b[38;5;124mex) if COM3, type in 3\u001b[39m\u001b[38;5;124m\"\u001b[39m)\n\u001b[1;32m---> 31\u001b[0m PortName \u001b[38;5;241m=\u001b[39m PortBase \u001b[38;5;241m+\u001b[39m \u001b[38;5;28;43minput\u001b[39;49m\u001b[43m(\u001b[49m\u001b[43m)\u001b[49m\n\u001b[0;32m     32\u001b[0m BaudRate \u001b[38;5;241m=\u001b[39m \u001b[38;5;241m9600\u001b[39m\n\u001b[0;32m     34\u001b[0m Arduino \u001b[38;5;241m=\u001b[39m serial\u001b[38;5;241m.\u001b[39mSerial(PortName, BaudRate)\n",
      "File \u001b[1;32m~\\anaconda3\\lib\\site-packages\\ipykernel\\kernelbase.py:1075\u001b[0m, in \u001b[0;36mKernel.raw_input\u001b[1;34m(self, prompt)\u001b[0m\n\u001b[0;32m   1071\u001b[0m \u001b[38;5;28;01mif\u001b[39;00m \u001b[38;5;129;01mnot\u001b[39;00m \u001b[38;5;28mself\u001b[39m\u001b[38;5;241m.\u001b[39m_allow_stdin:\n\u001b[0;32m   1072\u001b[0m     \u001b[38;5;28;01mraise\u001b[39;00m StdinNotImplementedError(\n\u001b[0;32m   1073\u001b[0m         \u001b[38;5;124m\"\u001b[39m\u001b[38;5;124mraw_input was called, but this frontend does not support input requests.\u001b[39m\u001b[38;5;124m\"\u001b[39m\n\u001b[0;32m   1074\u001b[0m     )\n\u001b[1;32m-> 1075\u001b[0m \u001b[38;5;28;01mreturn\u001b[39;00m \u001b[38;5;28;43mself\u001b[39;49m\u001b[38;5;241;43m.\u001b[39;49m\u001b[43m_input_request\u001b[49m\u001b[43m(\u001b[49m\n\u001b[0;32m   1076\u001b[0m \u001b[43m    \u001b[49m\u001b[38;5;28;43mstr\u001b[39;49m\u001b[43m(\u001b[49m\u001b[43mprompt\u001b[49m\u001b[43m)\u001b[49m\u001b[43m,\u001b[49m\n\u001b[0;32m   1077\u001b[0m \u001b[43m    \u001b[49m\u001b[38;5;28;43mself\u001b[39;49m\u001b[38;5;241;43m.\u001b[39;49m\u001b[43m_parent_ident\u001b[49m\u001b[43m[\u001b[49m\u001b[38;5;124;43m\"\u001b[39;49m\u001b[38;5;124;43mshell\u001b[39;49m\u001b[38;5;124;43m\"\u001b[39;49m\u001b[43m]\u001b[49m\u001b[43m,\u001b[49m\n\u001b[0;32m   1078\u001b[0m \u001b[43m    \u001b[49m\u001b[38;5;28;43mself\u001b[39;49m\u001b[38;5;241;43m.\u001b[39;49m\u001b[43mget_parent\u001b[49m\u001b[43m(\u001b[49m\u001b[38;5;124;43m\"\u001b[39;49m\u001b[38;5;124;43mshell\u001b[39;49m\u001b[38;5;124;43m\"\u001b[39;49m\u001b[43m)\u001b[49m\u001b[43m,\u001b[49m\n\u001b[0;32m   1079\u001b[0m \u001b[43m    \u001b[49m\u001b[43mpassword\u001b[49m\u001b[38;5;241;43m=\u001b[39;49m\u001b[38;5;28;43;01mFalse\u001b[39;49;00m\u001b[43m,\u001b[49m\n\u001b[0;32m   1080\u001b[0m \u001b[43m\u001b[49m\u001b[43m)\u001b[49m\n",
      "File \u001b[1;32m~\\anaconda3\\lib\\site-packages\\ipykernel\\kernelbase.py:1120\u001b[0m, in \u001b[0;36mKernel._input_request\u001b[1;34m(self, prompt, ident, parent, password)\u001b[0m\n\u001b[0;32m   1117\u001b[0m             \u001b[38;5;28;01mbreak\u001b[39;00m\n\u001b[0;32m   1118\u001b[0m \u001b[38;5;28;01mexcept\u001b[39;00m \u001b[38;5;167;01mKeyboardInterrupt\u001b[39;00m:\n\u001b[0;32m   1119\u001b[0m     \u001b[38;5;66;03m# re-raise KeyboardInterrupt, to truncate traceback\u001b[39;00m\n\u001b[1;32m-> 1120\u001b[0m     \u001b[38;5;28;01mraise\u001b[39;00m \u001b[38;5;167;01mKeyboardInterrupt\u001b[39;00m(\u001b[38;5;124m\"\u001b[39m\u001b[38;5;124mInterrupted by user\u001b[39m\u001b[38;5;124m\"\u001b[39m) \u001b[38;5;28;01mfrom\u001b[39;00m \u001b[38;5;28mNone\u001b[39m\n\u001b[0;32m   1121\u001b[0m \u001b[38;5;28;01mexcept\u001b[39;00m \u001b[38;5;167;01mException\u001b[39;00m:\n\u001b[0;32m   1122\u001b[0m     \u001b[38;5;28mself\u001b[39m\u001b[38;5;241m.\u001b[39mlog\u001b[38;5;241m.\u001b[39mwarning(\u001b[38;5;124m\"\u001b[39m\u001b[38;5;124mInvalid Message:\u001b[39m\u001b[38;5;124m\"\u001b[39m, exc_info\u001b[38;5;241m=\u001b[39m\u001b[38;5;28;01mTrue\u001b[39;00m)\n",
      "\u001b[1;31mKeyboardInterrupt\u001b[0m: Interrupted by user"
     ]
    }
   ],
   "source": [
    "import serial\n",
    "from datetime import datetime\n",
    "import platform\n",
    "import time\n",
    "import pandas as pd\n",
    "import matplotlib.pyplot as plt\n",
    "import matplotlib.animation as animation\n",
    "\n",
    "def animate(i, dataList, ser):\n",
    "    ser.write(b'w')\n",
    "    SerialData = float(ser.readline().decode('utf-8'))\n",
    "    \n",
    "    dataList.append([SerialData, datetime.now().strftime(\"%H:%M:%S.%f\")])\n",
    "    \n",
    "    line.set_data([],dataList[:][1])\n",
    "\n",
    "#set serial connection\n",
    "\n",
    "OS = platform.system()\n",
    "\n",
    "if OS == 'Windows':\n",
    "    PortBase = \"COM\"\n",
    "elif OS == 'Darwin':\n",
    "    PortBase = '/ev/tty.usbmodem'\n",
    "else:\n",
    "    print(\"Not supported OS\")\n",
    "\n",
    "\n",
    "print(\"Type in your COM port Number\")\n",
    "print(\"ex) if COM3, type in 3\")\n",
    "PortName = PortBase + input()\n",
    "BaudRate = 9600\n",
    "\n",
    "Arduino = serial.Serial(PortName, BaudRate)\n",
    "\n",
    "print(\"Type in the desired name of the .csv data file\")\n",
    "print(\"ex) 0001\")\n",
    "print(\"if there is a csv file with same, the original file will be replaced!\")\n",
    "FileName = input() + \".csv\"\n",
    "\n",
    "data = []\n",
    "\n",
    "fig = plt.figure()\n",
    "ax = plt.axes(ylim=(2,13))\n",
    "line, = ax.plot([],[],'r-',label='Rsensor')\n",
    "    \n",
    "ani = animation.FuncAnimation(fig, animate, frames = 100, fargs=(data, Arduino), interval=100)\n",
    "\n",
    "plt.show()\n",
    "Arduino.close()"
   ]
  },
  {
   "cell_type": "code",
   "execution_count": 5,
   "id": "26ef671f",
   "metadata": {},
   "outputs": [
    {
     "name": "stdout",
     "output_type": "stream",
     "text": [
      "How much minutes will you record the data?\n",
      "0.1\n"
     ]
    }
   ],
   "source": [
    "#read data from arduino serial monitor and save in list of data\n",
    "data = []\n",
    "\n",
    "print(\"How much minutes will you record the data?\")\n",
    "seconds = float(input()) * 60\n",
    "\n",
    "#delayTime is in seconds\n",
    "#follwing is sampling frequency of 10\n",
    "delayTime = 0.1"
   ]
  },
  {
   "cell_type": "code",
   "execution_count": 7,
   "id": "a059bab2",
   "metadata": {},
   "outputs": [],
   "source": [
    "#import numpy if we need additional mathematical calculations"
   ]
  },
  {
   "cell_type": "code",
   "execution_count": 8,
   "id": "675c69bd",
   "metadata": {},
   "outputs": [],
   "source": [
    "#write data to the csv file\n",
    "columnNames = ['Rsensor', 'Time']\n",
    "\n",
    "dataFile = pd.DataFrame(data, columns = columnNames)\n",
    "dataFile.to_csv(FileName, index = False)"
   ]
  },
  {
   "cell_type": "code",
   "execution_count": 3,
   "id": "91425983",
   "metadata": {},
   "outputs": [
    {
     "name": "stdout",
     "output_type": "stream",
     "text": [
      "You will need to change the cell format to 'hh:mm:ss.000'\n"
     ]
    }
   ],
   "source": [
    "print(\"You will need to change the cell format to 'hh:mm:ss.000'\")"
   ]
  },
  {
   "cell_type": "code",
   "execution_count": 14,
   "id": "50865a82",
   "metadata": {},
   "outputs": [
    {
     "data": {
      "text/plain": [
       "<matplotlib.animation.FuncAnimation at 0x26f45a42eb0>"
      ]
     },
     "execution_count": 14,
     "metadata": {},
     "output_type": "execute_result"
    }
   ],
   "source": [
    "ani"
   ]
  }
 ],
 "metadata": {
  "kernelspec": {
   "display_name": "Python 3 (ipykernel)",
   "language": "python",
   "name": "python3"
  },
  "language_info": {
   "codemirror_mode": {
    "name": "ipython",
    "version": 3
   },
   "file_extension": ".py",
   "mimetype": "text/x-python",
   "name": "python",
   "nbconvert_exporter": "python",
   "pygments_lexer": "ipython3",
   "version": "3.9.12"
  }
 },
 "nbformat": 4,
 "nbformat_minor": 5
}
